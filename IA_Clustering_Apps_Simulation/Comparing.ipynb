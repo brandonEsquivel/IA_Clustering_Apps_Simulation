{
 "cells": [
  {
   "cell_type": "markdown",
   "source": [
    "# Comparando metodos de agrupamiento\n",
    "EN muchas aplicaiocnes de CLustering y articulos academicos, es comun apreciar comparaciones entre metodos o algoritmos de agrupamiento, esto se da ya que los resultados son muy variados y dependen del dataset, los parametros utilizados y la smtericas analizadas. Encontrar el mejor fit es una tarea interesante y que ayuda a profundizar sobre los diferentes metodos de agrupamiento."
   ],
   "metadata": {}
  },
  {
   "cell_type": "markdown",
   "source": [
    "## Funcion para plotear graficos\n",
    "Se emplea un metodo automatico para graficar resultados con datos adaptados:"
   ],
   "metadata": {}
  },
  {
   "cell_type": "code",
   "execution_count": null,
   "source": [
    "# Imports\n",
    "\n",
    "import numpy as np\n",
    "import matplotlib.pyplot as plt\n",
    "import seaborn as sns\n",
    "import pandas as pd\n",
    "import sklearn.cluster as cluster\n",
    "from sklearn.cluster import KMeans\n",
    "import time\n",
    "\n",
    "%matplotlib inline\n",
    "\n",
    "# Configuracion general para graficos\n",
    "sns.set_context('poster')\n",
    "sns.set_color_codes()\n",
    "plot_kwds = {'alpha' : 0.25, 's' : 80, 'linewidths':0}"
   ],
   "outputs": [],
   "metadata": {}
  },
  {
   "cell_type": "code",
   "execution_count": null,
   "source": [
    "# Importamos el dataset a procesar y lo vemos\n",
    "manaties = pd.read_csv('../datasets/dataset_manaties.csv',engine='python')\n",
    "manaties.info()"
   ],
   "outputs": [],
   "metadata": {}
  },
  {
   "cell_type": "code",
   "execution_count": null,
   "source": [
    "manaties.head()"
   ],
   "outputs": [],
   "metadata": {}
  },
  {
   "cell_type": "markdown",
   "source": [
    "## Prepocesar los datos\n",
    "Ahora se tiene los datos en formato leide de csv, pero resulta mas facil trabajar con ellos ya normalizados, y en formato de dataset. Como se puede ver, se tienen 4 variables para cada muestra. Se obtienen tambien las metricas estadisticas para cada columna y las mas significativas."
   ],
   "metadata": {}
  },
  {
   "cell_type": "code",
   "execution_count": null,
   "source": [
    "manaties.describe()"
   ],
   "outputs": [],
   "metadata": {}
  },
  {
   "cell_type": "code",
   "execution_count": null,
   "source": [
    "manaties_normalizado = (manaties - manaties.min())/(manaties.max() - manaties.min())\n",
    "manaties_normalizado.describe()"
   ],
   "outputs": [],
   "metadata": {}
  },
  {
   "cell_type": "markdown",
   "source": [
    "Ahora que se tienen los datos normalizados entre 0 y 1, se pueden obtener sus metricas estadisticas en dos o tres variables PCA"
   ],
   "metadata": {}
  },
  {
   "cell_type": "code",
   "execution_count": null,
   "source": [
    "from sklearn.decomposition import PCA\n",
    "\n",
    "pca = PCA(n_components=3)                                   # tres componentes principales\n",
    "pca_manaties = pca.fit_transform(manaties_normalizado)\n",
    "DataFrame_manaties = pd.DataFrame(data= pca_manaties, columns=['Componente_1', 'Componente_2','Componente_3'])"
   ],
   "outputs": [],
   "metadata": {}
  },
  {
   "cell_type": "markdown",
   "source": [
    "### Kmeans "
   ],
   "metadata": {}
  },
  {
   "cell_type": "code",
   "execution_count": null,
   "source": [
    "kmeans =  KMeans(n_clusters=3, max_iter=300) \n",
    "kmeans.fit(manaties_normalizado)\n",
    "manaties['KMeans_clusters'] = kmeans.labels_\n",
    "\n",
    "\n",
    "DataFrame_manaties_labels = pd.concat([DataFrame_manaties, manaties[['KMeans_clusters']]], axis=1)\n",
    "\n",
    "DataFrame_manaties_labels # PCA data con labels del KMeans\n"
   ],
   "outputs": [],
   "metadata": {}
  },
  {
   "cell_type": "code",
   "execution_count": null,
   "source": [
    "# Kmeans grafico\n",
    "fig = plt.figure(figsize= (7,7))\n",
    "grafico = fig.add_subplot(1,1,1)\n",
    "grafico.set_xlabel('Componente 1',fontsize = 12 )\n",
    "grafico.set_ylabel('Componente 2',fontsize = 12 )\n",
    "grafico.set_title('Componentes principales - Clustering Kmeans',fontsize = 20 )\n",
    "Colores = np.array([\"blue\", \"orange\", \"green\",\"yellow\",\"brown\",\"purple\"])\n",
    "grafico.scatter(x=DataFrame_manaties.Componente_1, y=DataFrame_manaties.Componente_2,c=Colores[DataFrame_manaties_labels.KMeans_clusters], s=40)\n",
    "plt.show()"
   ],
   "outputs": [],
   "metadata": {}
  },
  {
   "cell_type": "code",
   "execution_count": null,
   "source": [
    "import hdbscan\n",
    "\n",
    "#clusterer = hdbscan.RobustSingleLinkage(cut=0.125, k=7)\n",
    "clusterHDBSCAN = hdbscan.HDBSCAN(min_cluster_size=15)\n",
    "\n",
    "clusterHDBSCAN.fit_predict(manaties_normalizado)\n",
    "\n",
    "HDBSCAN_labels = clusterHDBSCAN.labels_\n",
    "\n",
    "HDBSCAN_labels\n",
    "DataFrame_manaties_labels = pd.concat([DataFrame_manaties, manaties[['KMeans_clusters']]], axis=1)\n",
    "manaties['HDBSCAN_clusters'] = clusterHDBSCAN.labels_\n",
    "\n",
    "#DataFrame_manaties_labels = pd.concat([DataFrame_manaties, manaties[['KMeans_clusters']]], axis=1)\n",
    "\n",
    "#hierarchy = clusterer.cluster_hierarchy_\n",
    "\n",
    "#alt_labels = hierarchy.get_clusters(0.900, 2)\n",
    "#hierarchy.plot()"
   ],
   "outputs": [],
   "metadata": {}
  }
 ],
 "metadata": {
  "orig_nbformat": 4,
  "language_info": {
   "name": "python"
  }
 },
 "nbformat": 4,
 "nbformat_minor": 2
}